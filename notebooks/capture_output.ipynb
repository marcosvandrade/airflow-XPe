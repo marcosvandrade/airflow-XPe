{
 "cells": [
  {
   "cell_type": "code",
   "execution_count": 1,
   "id": "bf73054a",
   "metadata": {
    "execution": {
     "iopub.execute_input": "2023-11-28T22:20:37.867789Z",
     "iopub.status.busy": "2023-11-28T22:20:37.867344Z",
     "iopub.status.idle": "2023-11-28T22:20:37.873252Z",
     "shell.execute_reply": "2023-11-28T22:20:37.871980Z"
    },
    "jupyter": {
     "source_hidden": true
    },
    "papermill": {
     "duration": 0.019302,
     "end_time": "2023-11-28T22:20:37.876366",
     "exception": false,
     "start_time": "2023-11-28T22:20:37.857064",
     "status": "completed"
    },
    "tags": []
   },
   "outputs": [],
   "source": [
    "#! pip install pandas\n",
    "#! pip install chardet"
   ]
  },
  {
   "cell_type": "code",
   "execution_count": 2,
   "id": "6b4c1dd0",
   "metadata": {
    "execution": {
     "iopub.execute_input": "2023-11-28T22:20:37.886888Z",
     "iopub.status.busy": "2023-11-28T22:20:37.886421Z",
     "iopub.status.idle": "2023-11-28T22:20:38.603039Z",
     "shell.execute_reply": "2023-11-28T22:20:38.601769Z"
    },
    "jupyter": {
     "source_hidden": true
    },
    "papermill": {
     "duration": 0.72531,
     "end_time": "2023-11-28T22:20:38.605974",
     "exception": false,
     "start_time": "2023-11-28T22:20:37.880664",
     "status": "completed"
    },
    "tags": []
   },
   "outputs": [],
   "source": [
    "import requests\n",
    "import io\n",
    "import pandas as pd\n",
    "import zipfile\n",
    "import os"
   ]
  },
  {
   "cell_type": "markdown",
   "id": "d6088a23",
   "metadata": {
    "papermill": {
     "duration": 0.005411,
     "end_time": "2023-11-28T22:20:38.615198",
     "exception": false,
     "start_time": "2023-11-28T22:20:38.609787",
     "status": "completed"
    },
    "tags": []
   },
   "source": [
    "#### Extraindo os últimos dados públicos disponíveis de viagens no Portal da Transparência"
   ]
  },
  {
   "cell_type": "code",
   "execution_count": 3,
   "id": "fbd40640",
   "metadata": {
    "execution": {
     "iopub.execute_input": "2023-11-28T22:20:38.624392Z",
     "iopub.status.busy": "2023-11-28T22:20:38.623862Z",
     "iopub.status.idle": "2023-11-28T22:20:38.970255Z",
     "shell.execute_reply": "2023-11-28T22:20:38.967001Z"
    },
    "jupyter": {
     "source_hidden": true
    },
    "papermill": {
     "duration": 0.35733,
     "end_time": "2023-11-28T22:20:38.975930",
     "exception": false,
     "start_time": "2023-11-28T22:20:38.618600",
     "status": "completed"
    },
    "tags": []
   },
   "outputs": [
    {
     "name": "stdout",
     "output_type": "stream",
     "text": [
      "Extraction complete.\n"
     ]
    }
   ],
   "source": [
    "\n",
    "# URL of the zip file to be downloaded\n",
    "url = 'https://dadosabertos-download.cgu.gov.br/PortalDaTransparencia/saida/viagens/2024_20231122_Viagens.zip'\n",
    "\n",
    "# Perform a GET request to retrieve the zip file\n",
    "response = requests.get(url)\n",
    "\n",
    "if response.status_code == 200:\n",
    "    # Find the download link from the response (assuming it redirects to the zip file)\n",
    "    download_url = response.url\n",
    "\n",
    "    # Download the zip file\n",
    "    zip_response = requests.get(download_url)\n",
    "    \n",
    "    if zip_response.status_code == 200:\n",
    "        # Create a BytesIO object to work with the content as a file-like object\n",
    "        zip_file = io.BytesIO(zip_response.content)\n",
    "        \n",
    "        # Extract the contents of the zip file\n",
    "        with zipfile.ZipFile(zip_file, 'r') as zip_ref:\n",
    "            # Extract all contents to a specified directory\n",
    "            zip_ref.extractall('../data/TPM1')  # Replace '/path/to/extract' with your desired directory\n",
    "            print(\"Extraction complete.\")\n",
    "    else:\n",
    "        print(\"Failed to download the zip file.\")\n",
    "else:\n",
    "    print(\"Failed to fetch the download URL.\")\n"
   ]
  },
  {
   "cell_type": "markdown",
   "id": "8cceff54",
   "metadata": {
    "papermill": {
     "duration": 0.008007,
     "end_time": "2023-11-28T22:20:38.994671",
     "exception": false,
     "start_time": "2023-11-28T22:20:38.986664",
     "status": "completed"
    },
    "tags": []
   },
   "source": [
    "#### Listando os arquivos baixados no diretório data"
   ]
  },
  {
   "cell_type": "code",
   "execution_count": 4,
   "id": "8dbcb1be",
   "metadata": {
    "execution": {
     "iopub.execute_input": "2023-11-28T22:20:39.009278Z",
     "iopub.status.busy": "2023-11-28T22:20:39.008781Z",
     "iopub.status.idle": "2023-11-28T22:20:39.024006Z",
     "shell.execute_reply": "2023-11-28T22:20:39.022836Z"
    },
    "jupyter": {
     "source_hidden": true
    },
    "papermill": {
     "duration": 0.024189,
     "end_time": "2023-11-28T22:20:39.026943",
     "exception": false,
     "start_time": "2023-11-28T22:20:39.002754",
     "status": "completed"
    },
    "tags": []
   },
   "outputs": [
    {
     "data": {
      "text/plain": [
       "['2024_viagens_consolidado.csv',\n",
       " '2024_Viagem.csv',\n",
       " '2024_Passagem.csv',\n",
       " '2024_Pagamento.csv',\n",
       " '2024_Trecho.csv']"
      ]
     },
     "execution_count": 4,
     "metadata": {},
     "output_type": "execute_result"
    }
   ],
   "source": [
    "os.listdir('../data/TPM1')"
   ]
  },
  {
   "cell_type": "markdown",
   "id": "3332cce5",
   "metadata": {
    "papermill": {
     "duration": 0.004042,
     "end_time": "2023-11-28T22:20:39.039726",
     "exception": false,
     "start_time": "2023-11-28T22:20:39.035684",
     "status": "completed"
    },
    "tags": []
   },
   "source": [
    "#### carregando os dataframes com pandas"
   ]
  },
  {
   "cell_type": "code",
   "execution_count": 5,
   "id": "f7d62765",
   "metadata": {
    "execution": {
     "iopub.execute_input": "2023-11-28T22:20:39.050084Z",
     "iopub.status.busy": "2023-11-28T22:20:39.049685Z",
     "iopub.status.idle": "2023-11-28T22:20:39.074409Z",
     "shell.execute_reply": "2023-11-28T22:20:39.073233Z"
    },
    "jupyter": {
     "source_hidden": true
    },
    "papermill": {
     "duration": 0.033576,
     "end_time": "2023-11-28T22:20:39.077106",
     "exception": false,
     "start_time": "2023-11-28T22:20:39.043530",
     "status": "completed"
    },
    "tags": []
   },
   "outputs": [],
   "source": [
    "pagamento = pd.read_csv('../data/TPM1/2024_Pagamento.csv', index_col=False, encoding='ISO-8859-1', delimiter=';')\n",
    "passagem = pd.read_csv('../data/TPM1/2024_Passagem.csv', index_col=False, encoding='ISO-8859-1', delimiter=';')\n",
    "trecho = pd.read_csv('../data/TPM1/2024_Trecho.csv', index_col=False, encoding='ISO-8859-1', delimiter=';')\n",
    "viagem = pd.read_csv('../data/TPM1/2024_Viagem.csv', index_col=False, encoding='ISO-8859-1', delimiter=';')"
   ]
  },
  {
   "cell_type": "code",
   "execution_count": 6,
   "id": "9b78a06b",
   "metadata": {
    "execution": {
     "iopub.execute_input": "2023-11-28T22:20:39.088958Z",
     "iopub.status.busy": "2023-11-28T22:20:39.088558Z",
     "iopub.status.idle": "2023-11-28T22:20:39.093802Z",
     "shell.execute_reply": "2023-11-28T22:20:39.092521Z"
    },
    "jupyter": {
     "source_hidden": true
    },
    "papermill": {
     "duration": 0.015092,
     "end_time": "2023-11-28T22:20:39.097942",
     "exception": false,
     "start_time": "2023-11-28T22:20:39.082850",
     "status": "completed"
    },
    "tags": []
   },
   "outputs": [],
   "source": [
    "#pagamento.info()\n",
    "#viagem.shape"
   ]
  },
  {
   "cell_type": "markdown",
   "id": "a9e471bf",
   "metadata": {
    "papermill": {
     "duration": 0.004315,
     "end_time": "2023-11-28T22:20:39.108429",
     "exception": false,
     "start_time": "2023-11-28T22:20:39.104114",
     "status": "completed"
    },
    "tags": []
   },
   "source": [
    "#### mesclando os dataframes usando a coluna 'Identificador do processo de viagem'"
   ]
  },
  {
   "cell_type": "code",
   "execution_count": 7,
   "id": "96ea742c",
   "metadata": {
    "execution": {
     "iopub.execute_input": "2023-11-28T22:20:39.123385Z",
     "iopub.status.busy": "2023-11-28T22:20:39.121950Z",
     "iopub.status.idle": "2023-11-28T22:20:39.143386Z",
     "shell.execute_reply": "2023-11-28T22:20:39.141916Z"
    },
    "jupyter": {
     "source_hidden": true
    },
    "papermill": {
     "duration": 0.033079,
     "end_time": "2023-11-28T22:20:39.148649",
     "exception": false,
     "start_time": "2023-11-28T22:20:39.115570",
     "status": "completed"
    },
    "tags": []
   },
   "outputs": [],
   "source": [
    "df = pd.merge(pagamento, passagem, left_index=True, right_index=True, suffixes=('_pagamento', '_passagem'), how='inner')\n",
    "df = pd.merge(df, trecho, left_index=True, right_index=True, suffixes=('_merged', '_trecho'), how='inner')\n",
    "df = pd.merge(df, viagem, left_index=True, right_index=True, suffixes=('_final', '_viagem'), how='inner')"
   ]
  },
  {
   "cell_type": "code",
   "execution_count": 8,
   "id": "aece9b16",
   "metadata": {
    "execution": {
     "iopub.execute_input": "2023-11-28T22:20:39.169526Z",
     "iopub.status.busy": "2023-11-28T22:20:39.169110Z",
     "iopub.status.idle": "2023-11-28T22:20:39.178704Z",
     "shell.execute_reply": "2023-11-28T22:20:39.177053Z"
    },
    "jupyter": {
     "source_hidden": true
    },
    "papermill": {
     "duration": 0.023414,
     "end_time": "2023-11-28T22:20:39.182007",
     "exception": false,
     "start_time": "2023-11-28T22:20:39.158593",
     "status": "completed"
    },
    "tags": []
   },
   "outputs": [],
   "source": [
    "df.to_csv('../data/TPM1/2024_viagens_consolidado.csv', index=False)"
   ]
  }
 ],
 "metadata": {
  "kernelspec": {
   "display_name": "docker-airflow",
   "language": "python",
   "name": "python3"
  },
  "language_info": {
   "codemirror_mode": {
    "name": "ipython",
    "version": 3
   },
   "file_extension": ".py",
   "mimetype": "text/x-python",
   "name": "python",
   "nbconvert_exporter": "python",
   "pygments_lexer": "ipython3",
   "version": "3.8.18"
  },
  "papermill": {
   "default_parameters": {},
   "duration": 4.075124,
   "end_time": "2023-11-28T22:20:39.612416",
   "environment_variables": {},
   "exception": null,
   "input_path": "/home/marcos/airflow/notebooks/capture.ipynb",
   "output_path": "/home/marcos/airflow/notebooks/capture_output.ipynb",
   "parameters": {},
   "start_time": "2023-11-28T22:20:35.537292",
   "version": "2.5.0"
  }
 },
 "nbformat": 4,
 "nbformat_minor": 5
}
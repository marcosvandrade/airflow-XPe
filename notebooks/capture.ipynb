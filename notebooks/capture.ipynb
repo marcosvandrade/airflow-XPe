{
 "cells": [
  {
   "cell_type": "code",
   "execution_count": 17,
   "metadata": {},
   "outputs": [],
   "source": [
    "#! pip install pandas\n",
    "#! pip install chardet"
   ]
  },
  {
   "cell_type": "code",
   "execution_count": 18,
   "metadata": {},
   "outputs": [],
   "source": [
    "import requests\n",
    "import io\n",
    "import pandas as pd\n",
    "import zipfile\n",
    "import os"
   ]
  },
  {
   "cell_type": "markdown",
   "metadata": {},
   "source": [
    "#### Extraindo os últimos dados públicos disponíveis de viagens no Portal da Transparência"
   ]
  },
  {
   "cell_type": "code",
   "execution_count": 19,
   "metadata": {},
   "outputs": [
    {
     "name": "stdout",
     "output_type": "stream",
     "text": [
      "Extraction complete.\n"
     ]
    }
   ],
   "source": [
    "\n",
    "# URL of the zip file to be downloaded\n",
    "url = 'https://dadosabertos-download.cgu.gov.br/PortalDaTransparencia/saida/viagens/2024_20231122_Viagens.zip'\n",
    "\n",
    "# Perform a GET request to retrieve the zip file\n",
    "response = requests.get(url)\n",
    "\n",
    "if response.status_code == 200:\n",
    "    # Find the download link from the response (assuming it redirects to the zip file)\n",
    "    download_url = response.url\n",
    "\n",
    "    # Download the zip file\n",
    "    zip_response = requests.get(download_url)\n",
    "    \n",
    "    if zip_response.status_code == 200:\n",
    "        # Create a BytesIO object to work with the content as a file-like object\n",
    "        zip_file = io.BytesIO(zip_response.content)\n",
    "        \n",
    "        # Extract the contents of the zip file\n",
    "        with zipfile.ZipFile(zip_file, 'r') as zip_ref:\n",
    "            # Extract all contents to a specified directory\n",
    "            zip_ref.extractall('../data/TPM1')  # Replace '/path/to/extract' with your desired directory\n",
    "            print(\"Extraction complete.\")\n",
    "    else:\n",
    "        print(\"Failed to download the zip file.\")\n",
    "else:\n",
    "    print(\"Failed to fetch the download URL.\")\n"
   ]
  },
  {
   "cell_type": "markdown",
   "metadata": {},
   "source": [
    "#### Listando os arquivos baixados no diretório data"
   ]
  },
  {
   "cell_type": "code",
   "execution_count": 20,
   "metadata": {},
   "outputs": [
    {
     "data": {
      "text/plain": [
       "['2024_viagens_consolidado.csv',\n",
       " '2024_Viagem.csv',\n",
       " '2024_Passagem.csv',\n",
       " '2024_Pagamento.csv',\n",
       " '.~lock.2024_viagens_consolidado.csv#',\n",
       " '2024_Trecho.csv']"
      ]
     },
     "execution_count": 20,
     "metadata": {},
     "output_type": "execute_result"
    }
   ],
   "source": [
    "os.listdir('../data/TPM1')"
   ]
  },
  {
   "cell_type": "markdown",
   "metadata": {},
   "source": [
    "#### carregando os dataframes com pandas"
   ]
  },
  {
   "cell_type": "code",
   "execution_count": 21,
   "metadata": {},
   "outputs": [],
   "source": [
    "pagamento = pd.read_csv('../data/TPM1/2024_Pagamento.csv', index_col=False, encoding='ISO-8859-1', delimiter=';')\n",
    "passagem = pd.read_csv('../data/TPM1/2024_Passagem.csv', index_col=False, encoding='ISO-8859-1', delimiter=';')\n",
    "trecho = pd.read_csv('../data/TPM1/2024_Trecho.csv', index_col=False, encoding='ISO-8859-1', delimiter=';')\n",
    "viagem = pd.read_csv('../data/TPM1/2024_Viagem.csv', index_col=False, encoding='ISO-8859-1', delimiter=';')"
   ]
  },
  {
   "cell_type": "code",
   "execution_count": 22,
   "metadata": {},
   "outputs": [],
   "source": [
    "#pagamento.info()\n",
    "#viagem.shape"
   ]
  },
  {
   "cell_type": "markdown",
   "metadata": {},
   "source": [
    "#### mesclando os dataframes usando a coluna 'Identificador do processo de viagem'"
   ]
  },
  {
   "cell_type": "code",
   "execution_count": 23,
   "metadata": {},
   "outputs": [],
   "source": [
    "df = pd.merge(pagamento, passagem, left_index=True, right_index=True, suffixes=('_pagamento', '_passagem'), how='inner')\n",
    "df = pd.merge(df, trecho, left_index=True, right_index=True, suffixes=('_merged', '_trecho'), how='inner')\n",
    "df = pd.merge(df, viagem, left_index=True, right_index=True, suffixes=('_final', '_viagem'), how='inner')"
   ]
  },
  {
   "cell_type": "code",
   "execution_count": 24,
   "metadata": {},
   "outputs": [],
   "source": [
    "df.to_csv('../data/TPM1/2024_viagens_consolidado.csv', index=False)"
   ]
  }
 ],
 "metadata": {
  "kernelspec": {
   "display_name": "docker-airflow",
   "language": "python",
   "name": "python3"
  },
  "language_info": {
   "codemirror_mode": {
    "name": "ipython",
    "version": 3
   },
   "file_extension": ".py",
   "mimetype": "text/x-python",
   "name": "python",
   "nbconvert_exporter": "python",
   "pygments_lexer": "ipython3",
   "version": "3.8.18"
  }
 },
 "nbformat": 4,
 "nbformat_minor": 2
}

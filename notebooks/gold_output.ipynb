{
 "cells": [
  {
   "cell_type": "code",
   "execution_count": 1,
   "id": "fa565277",
   "metadata": {
    "execution": {
     "iopub.execute_input": "2023-11-28T22:20:57.601845Z",
     "iopub.status.busy": "2023-11-28T22:20:57.601421Z",
     "iopub.status.idle": "2023-11-28T22:20:57.609846Z",
     "shell.execute_reply": "2023-11-28T22:20:57.607583Z"
    },
    "jupyter": {
     "source_hidden": true
    },
    "papermill": {
     "duration": 0.025865,
     "end_time": "2023-11-28T22:20:57.614868",
     "exception": false,
     "start_time": "2023-11-28T22:20:57.589003",
     "status": "completed"
    },
    "tags": []
   },
   "outputs": [],
   "source": [
    "#! pip install pyspark"
   ]
  },
  {
   "cell_type": "code",
   "execution_count": 2,
   "id": "9db3f628",
   "metadata": {
    "execution": {
     "iopub.execute_input": "2023-11-28T22:20:57.632458Z",
     "iopub.status.busy": "2023-11-28T22:20:57.630973Z",
     "iopub.status.idle": "2023-11-28T22:20:58.412625Z",
     "shell.execute_reply": "2023-11-28T22:20:58.410831Z"
    },
    "jupyter": {
     "source_hidden": true
    },
    "papermill": {
     "duration": 0.793441,
     "end_time": "2023-11-28T22:20:58.415386",
     "exception": false,
     "start_time": "2023-11-28T22:20:57.621945",
     "status": "completed"
    },
    "tags": []
   },
   "outputs": [],
   "source": [
    "import pandas as pd\n",
    "from pyspark.sql import SparkSession"
   ]
  },
  {
   "cell_type": "code",
   "execution_count": 3,
   "id": "996560fc",
   "metadata": {
    "execution": {
     "iopub.execute_input": "2023-11-28T22:20:58.424493Z",
     "iopub.status.busy": "2023-11-28T22:20:58.423375Z",
     "iopub.status.idle": "2023-11-28T22:20:58.443554Z",
     "shell.execute_reply": "2023-11-28T22:20:58.441834Z"
    },
    "jupyter": {
     "source_hidden": true
    },
    "papermill": {
     "duration": 0.029145,
     "end_time": "2023-11-28T22:20:58.447121",
     "exception": false,
     "start_time": "2023-11-28T22:20:58.417976",
     "status": "completed"
    },
    "tags": []
   },
   "outputs": [],
   "source": [
    "df = pd.read_csv('../data/TPM1/2024_viagens_consolidado.csv')"
   ]
  },
  {
   "cell_type": "code",
   "execution_count": 4,
   "id": "4c89b579",
   "metadata": {
    "execution": {
     "iopub.execute_input": "2023-11-28T22:20:58.455629Z",
     "iopub.status.busy": "2023-11-28T22:20:58.455158Z",
     "iopub.status.idle": "2023-11-28T22:20:58.491789Z",
     "shell.execute_reply": "2023-11-28T22:20:58.490256Z"
    },
    "jupyter": {
     "source_hidden": true
    },
    "papermill": {
     "duration": 0.046581,
     "end_time": "2023-11-28T22:20:58.496715",
     "exception": false,
     "start_time": "2023-11-28T22:20:58.450134",
     "status": "completed"
    },
    "tags": []
   },
   "outputs": [
    {
     "data": {
      "text/html": [
       "<div>\n",
       "<style scoped>\n",
       "    .dataframe tbody tr th:only-of-type {\n",
       "        vertical-align: middle;\n",
       "    }\n",
       "\n",
       "    .dataframe tbody tr th {\n",
       "        vertical-align: top;\n",
       "    }\n",
       "\n",
       "    .dataframe thead th {\n",
       "        text-align: right;\n",
       "    }\n",
       "</style>\n",
       "<table border=\"1\" class=\"dataframe\">\n",
       "  <thead>\n",
       "    <tr style=\"text-align: right;\">\n",
       "      <th></th>\n",
       "      <th>Identificador do processo de viagem_pagamento</th>\n",
       "      <th>Número da Proposta (PCDP)_pagamento</th>\n",
       "      <th>Código do órgão superior_final</th>\n",
       "      <th>Nome do órgão superior_final</th>\n",
       "      <th>Codigo do órgão pagador</th>\n",
       "      <th>Nome do órgao pagador</th>\n",
       "      <th>Código da unidade gestora pagadora</th>\n",
       "      <th>Nome da unidade gestora pagadora</th>\n",
       "      <th>Tipo de pagamento</th>\n",
       "      <th>Valor</th>\n",
       "      <th>...</th>\n",
       "      <th>Nome</th>\n",
       "      <th>Função</th>\n",
       "      <th>Período - Data de início</th>\n",
       "      <th>Período - Data de fim</th>\n",
       "      <th>Destinos</th>\n",
       "      <th>Motivo</th>\n",
       "      <th>Valor diárias</th>\n",
       "      <th>Valor passagens</th>\n",
       "      <th>Valor devolução</th>\n",
       "      <th>Valor outros gastos</th>\n",
       "    </tr>\n",
       "  </thead>\n",
       "  <tbody>\n",
       "    <tr>\n",
       "      <th>0</th>\n",
       "      <td>19485139</td>\n",
       "      <td>000184/24</td>\n",
       "      <td>52000</td>\n",
       "      <td>Ministério da Defesa</td>\n",
       "      <td>52121</td>\n",
       "      <td>Comando do Exército</td>\n",
       "      <td>160523</td>\n",
       "      <td>CENTRO DE PREP. DE OFICIAIS DA RESERVA DE BH</td>\n",
       "      <td>PASSAGEM</td>\n",
       "      <td>914.84</td>\n",
       "      <td>...</td>\n",
       "      <td>GIOVANA CRISTINA BASTOS DE OLIVEIRA</td>\n",
       "      <td>-1</td>\n",
       "      <td>18/01/2024</td>\n",
       "      <td>19/01/2024</td>\n",
       "      <td>Brasília/DF</td>\n",
       "      <td>Participação da Aluna do CMBH Giovana Cristina...</td>\n",
       "      <td>0,00</td>\n",
       "      <td>914.84</td>\n",
       "      <td>0,00</td>\n",
       "      <td>0,00</td>\n",
       "    </tr>\n",
       "  </tbody>\n",
       "</table>\n",
       "<p>1 rows × 53 columns</p>\n",
       "</div>"
      ],
      "text/plain": [
       "   Identificador do processo de viagem_pagamento  \\\n",
       "0                                       19485139   \n",
       "\n",
       "  Número da Proposta (PCDP)_pagamento  Código do órgão superior_final  \\\n",
       "0                           000184/24                           52000   \n",
       "\n",
       "  Nome do órgão superior_final  Codigo do órgão pagador Nome do órgao pagador  \\\n",
       "0         Ministério da Defesa                    52121   Comando do Exército   \n",
       "\n",
       "   Código da unidade gestora pagadora  \\\n",
       "0                              160523   \n",
       "\n",
       "               Nome da unidade gestora pagadora Tipo de pagamento   Valor  \\\n",
       "0  CENTRO DE PREP. DE OFICIAIS DA RESERVA DE BH          PASSAGEM  914.84   \n",
       "\n",
       "   ...                                 Nome Função Período - Data de início  \\\n",
       "0  ...  GIOVANA CRISTINA BASTOS DE OLIVEIRA     -1               18/01/2024   \n",
       "\n",
       "  Período - Data de fim     Destinos  \\\n",
       "0            19/01/2024  Brasília/DF   \n",
       "\n",
       "                                              Motivo Valor diárias  \\\n",
       "0  Participação da Aluna do CMBH Giovana Cristina...          0,00   \n",
       "\n",
       "  Valor passagens Valor devolução  Valor outros gastos  \n",
       "0          914.84            0,00                 0,00  \n",
       "\n",
       "[1 rows x 53 columns]"
      ]
     },
     "execution_count": 4,
     "metadata": {},
     "output_type": "execute_result"
    }
   ],
   "source": [
    "df.head()"
   ]
  },
  {
   "cell_type": "code",
   "execution_count": 5,
   "id": "8abdcbda",
   "metadata": {
    "execution": {
     "iopub.execute_input": "2023-11-28T22:20:58.506678Z",
     "iopub.status.busy": "2023-11-28T22:20:58.506259Z",
     "iopub.status.idle": "2023-11-28T22:21:04.406497Z",
     "shell.execute_reply": "2023-11-28T22:21:04.405047Z"
    },
    "jupyter": {
     "source_hidden": true
    },
    "papermill": {
     "duration": 5.910772,
     "end_time": "2023-11-28T22:21:04.410731",
     "exception": false,
     "start_time": "2023-11-28T22:20:58.499959",
     "status": "completed"
    },
    "tags": []
   },
   "outputs": [
    {
     "name": "stderr",
     "output_type": "stream",
     "text": [
      "23/11/28 19:21:01 WARN Utils: Your hostname, data-engineer resolves to a loopback address: 127.0.1.1; using 192.168.0.146 instead (on interface enp2s0)\n",
      "23/11/28 19:21:01 WARN Utils: Set SPARK_LOCAL_IP if you need to bind to another address\n"
     ]
    },
    {
     "name": "stderr",
     "output_type": "stream",
     "text": [
      "Setting default log level to \"WARN\".\n",
      "To adjust logging level use sc.setLogLevel(newLevel). For SparkR, use setLogLevel(newLevel).\n"
     ]
    },
    {
     "name": "stderr",
     "output_type": "stream",
     "text": [
      "23/11/28 19:21:02 WARN NativeCodeLoader: Unable to load native-hadoop library for your platform... using builtin-java classes where applicable\n"
     ]
    }
   ],
   "source": [
    "spark = SparkSession.builder.appName(\"tpm1\").getOrCreate()\n"
   ]
  },
  {
   "cell_type": "code",
   "execution_count": 6,
   "id": "fa79f013",
   "metadata": {
    "execution": {
     "iopub.execute_input": "2023-11-28T22:21:04.422191Z",
     "iopub.status.busy": "2023-11-28T22:21:04.421482Z",
     "iopub.status.idle": "2023-11-28T22:21:07.493402Z",
     "shell.execute_reply": "2023-11-28T22:21:07.491005Z"
    },
    "jupyter": {
     "source_hidden": true
    },
    "papermill": {
     "duration": 3.081719,
     "end_time": "2023-11-28T22:21:07.496823",
     "exception": false,
     "start_time": "2023-11-28T22:21:04.415104",
     "status": "completed"
    },
    "tags": []
   },
   "outputs": [],
   "source": [
    "df = spark.createDataFrame(df)"
   ]
  },
  {
   "cell_type": "code",
   "execution_count": 7,
   "id": "98b181cc",
   "metadata": {
    "execution": {
     "iopub.execute_input": "2023-11-28T22:21:07.510617Z",
     "iopub.status.busy": "2023-11-28T22:21:07.510071Z",
     "iopub.status.idle": "2023-11-28T22:21:13.090616Z",
     "shell.execute_reply": "2023-11-28T22:21:13.087740Z"
    },
    "jupyter": {
     "source_hidden": true
    },
    "papermill": {
     "duration": 5.590742,
     "end_time": "2023-11-28T22:21:13.094687",
     "exception": false,
     "start_time": "2023-11-28T22:21:07.503945",
     "status": "completed"
    },
    "tags": []
   },
   "outputs": [
    {
     "name": "stderr",
     "output_type": "stream",
     "text": [
      "23/11/28 19:21:08 WARN SparkStringUtils: Truncated the string representation of a plan since it was too large. This behavior can be adjusted by setting 'spark.sql.debug.maxToStringFields'.\n"
     ]
    },
    {
     "name": "stderr",
     "output_type": "stream",
     "text": [
      "\r",
      "[Stage 0:>                                                          (0 + 1) / 1]\r"
     ]
    },
    {
     "name": "stderr",
     "output_type": "stream",
     "text": [
      "\r",
      "                                                                                \r"
     ]
    },
    {
     "name": "stdout",
     "output_type": "stream",
     "text": [
      "+---------------------------------------------+-----------------------------------+------------------------------+----------------------------+-----------------------+---------------------+----------------------------------+--------------------------------+-----------------+------+--------------------------------------------+----------------------------------+-------------------------+-----------------+---------------+-------------------+------------------+----------------+--------------------+-----------------+---------------+----------------------+----------------------+------------------------------------+-------------------------------+----------------+-------------+-------------+------------+---------------+--------------+--------------+----------------+----------------+-------------------------+--------------+-------+-----------------------------------+--------------------------------+-------------+--------------+-------------------------------+------------------------+--------------------+------+------------------------+---------------------+-----------+--------------------+-------------+---------------+---------------+-------------------+\n",
      "|Identificador do processo de viagem_pagamento|Número da Proposta (PCDP)_pagamento|Código do órgão superior_final|Nome do órgão superior_final|Codigo do órgão pagador|Nome do órgao pagador|Código da unidade gestora pagadora|Nome da unidade gestora pagadora|Tipo de pagamento| Valor|Identificador do processo de viagem_passagem|Número da Proposta (PCDP)_passagem|Meio de transporte_merged|País - Origem ida|UF - Origem ida|Cidade - Origem ida|País - Destino ida|UF - Destino ida|Cidade - Destino ida|Valor da passagem|Taxa de serviço|Data da emissão/compra|Hora da emissão/compra|Identificador do processo de viagem |Número da Proposta (PCDP)_final|Sequência Trecho|Origem - Data|Origem - País| Origem - UF|Origem - Cidade|Destino - Data|Destino - País|    Destino - UF|Destino - Cidade|Meio de transporte_trecho|Número Diárias|Missao?|Identificador do processo de viagem|Número da Proposta (PCDP)_viagem|     Situação|Viagem Urgente|Código do órgão superior_viagem|Código órgão solicitante|                Nome|Função|Período - Data de início|Período - Data de fim|   Destinos|              Motivo|Valor diárias|Valor passagens|Valor devolução|Valor outros gastos|\n",
      "+---------------------------------------------+-----------------------------------+------------------------------+----------------------------+-----------------------+---------------------+----------------------------------+--------------------------------+-----------------+------+--------------------------------------------+----------------------------------+-------------------------+-----------------+---------------+-------------------+------------------+----------------+--------------------+-----------------+---------------+----------------------+----------------------+------------------------------------+-------------------------------+----------------+-------------+-------------+------------+---------------+--------------+--------------+----------------+----------------+-------------------------+--------------+-------+-----------------------------------+--------------------------------+-------------+--------------+-------------------------------+------------------------+--------------------+------+------------------------+---------------------+-----------+--------------------+-------------+---------------+---------------+-------------------+\n",
      "|                                     19485139|                          000184/24|                         52000|        Ministério da Defesa|                  52121|  Comando do Exército|                            160523|            CENTRO DE PREP. D...|         PASSAGEM|914.84|                                    19485139|                         000184/24|                    Aéreo|           Brasil|   Minas Gerais|     Belo Horizonte|            Brasil|Distrito Federal|            Brasília|           472.62|         442.22|            13/11/2023|                 11:15|                            19485139|                      000184/24|               1|   18/01/2024|       Brasil|Minas Gerais| Belo Horizonte|    19/01/2024|        Brasil|Distrito Federal|        Brasília|                    Aéreo|          0,00|    Sim|                           19485139|                       000184/24|Não realizada|           NÃO|                             -1|                      -1|GIOVANA CRISTINA ...|    -1|              18/01/2024|           19/01/2024|Brasília/DF|Participação da A...|         0,00|         914.84|           0,00|               0,00|\n",
      "+---------------------------------------------+-----------------------------------+------------------------------+----------------------------+-----------------------+---------------------+----------------------------------+--------------------------------+-----------------+------+--------------------------------------------+----------------------------------+-------------------------+-----------------+---------------+-------------------+------------------+----------------+--------------------+-----------------+---------------+----------------------+----------------------+------------------------------------+-------------------------------+----------------+-------------+-------------+------------+---------------+--------------+--------------+----------------+----------------+-------------------------+--------------+-------+-----------------------------------+--------------------------------+-------------+--------------+-------------------------------+------------------------+--------------------+------+------------------------+---------------------+-----------+--------------------+-------------+---------------+---------------+-------------------+\n",
      "\n"
     ]
    }
   ],
   "source": [
    "df.show()"
   ]
  }
 ],
 "metadata": {
  "kernelspec": {
   "display_name": "docker-airflow",
   "language": "python",
   "name": "python3"
  },
  "language_info": {
   "codemirror_mode": {
    "name": "ipython",
    "version": 3
   },
   "file_extension": ".py",
   "mimetype": "text/x-python",
   "name": "python",
   "nbconvert_exporter": "python",
   "pygments_lexer": "ipython3",
   "version": "3.8.18"
  },
  "papermill": {
   "default_parameters": {},
   "duration": 20.400167,
   "end_time": "2023-11-28T22:21:15.723017",
   "environment_variables": {},
   "exception": null,
   "input_path": "/home/marcos/airflow/notebooks/gold.ipynb",
   "output_path": "/home/marcos/airflow/notebooks/gold_output.ipynb",
   "parameters": {},
   "start_time": "2023-11-28T22:20:55.322850",
   "version": "2.5.0"
  }
 },
 "nbformat": 4,
 "nbformat_minor": 5
}
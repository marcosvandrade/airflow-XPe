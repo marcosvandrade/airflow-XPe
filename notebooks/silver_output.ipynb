{
 "cells": [
  {
   "cell_type": "code",
   "execution_count": 1,
   "id": "9d35a700",
   "metadata": {
    "execution": {
     "iopub.execute_input": "2023-11-28T22:20:48.084463Z",
     "iopub.status.busy": "2023-11-28T22:20:48.083763Z",
     "iopub.status.idle": "2023-11-28T22:20:48.806921Z",
     "shell.execute_reply": "2023-11-28T22:20:48.805700Z"
    },
    "jupyter": {
     "source_hidden": true
    },
    "papermill": {
     "duration": 0.740242,
     "end_time": "2023-11-28T22:20:48.810914",
     "exception": false,
     "start_time": "2023-11-28T22:20:48.070672",
     "status": "completed"
    },
    "tags": []
   },
   "outputs": [],
   "source": [
    "import pandas as pd"
   ]
  },
  {
   "cell_type": "code",
   "execution_count": 2,
   "id": "2cb11d3e",
   "metadata": {
    "execution": {
     "iopub.execute_input": "2023-11-28T22:20:48.820531Z",
     "iopub.status.busy": "2023-11-28T22:20:48.820023Z",
     "iopub.status.idle": "2023-11-28T22:20:48.838595Z",
     "shell.execute_reply": "2023-11-28T22:20:48.837187Z"
    },
    "jupyter": {
     "source_hidden": true
    },
    "papermill": {
     "duration": 0.028192,
     "end_time": "2023-11-28T22:20:48.842770",
     "exception": false,
     "start_time": "2023-11-28T22:20:48.814578",
     "status": "completed"
    },
    "tags": []
   },
   "outputs": [],
   "source": [
    "df = pd.read_csv('../data/TPM1/2024_viagens_consolidado.csv')"
   ]
  },
  {
   "cell_type": "code",
   "execution_count": 3,
   "id": "9e680d60",
   "metadata": {
    "execution": {
     "iopub.execute_input": "2023-11-28T22:20:48.852763Z",
     "iopub.status.busy": "2023-11-28T22:20:48.852332Z",
     "iopub.status.idle": "2023-11-28T22:20:48.886836Z",
     "shell.execute_reply": "2023-11-28T22:20:48.885585Z"
    },
    "jupyter": {
     "source_hidden": true
    },
    "papermill": {
     "duration": 0.042352,
     "end_time": "2023-11-28T22:20:48.889999",
     "exception": false,
     "start_time": "2023-11-28T22:20:48.847647",
     "status": "completed"
    },
    "tags": []
   },
   "outputs": [
    {
     "data": {
      "text/html": [
       "<div>\n",
       "<style scoped>\n",
       "    .dataframe tbody tr th:only-of-type {\n",
       "        vertical-align: middle;\n",
       "    }\n",
       "\n",
       "    .dataframe tbody tr th {\n",
       "        vertical-align: top;\n",
       "    }\n",
       "\n",
       "    .dataframe thead th {\n",
       "        text-align: right;\n",
       "    }\n",
       "</style>\n",
       "<table border=\"1\" class=\"dataframe\">\n",
       "  <thead>\n",
       "    <tr style=\"text-align: right;\">\n",
       "      <th></th>\n",
       "      <th>Identificador do processo de viagem_pagamento</th>\n",
       "      <th>Número da Proposta (PCDP)_pagamento</th>\n",
       "      <th>Código do órgão superior_final</th>\n",
       "      <th>Nome do órgão superior_final</th>\n",
       "      <th>Codigo do órgão pagador</th>\n",
       "      <th>Nome do órgao pagador</th>\n",
       "      <th>Código da unidade gestora pagadora</th>\n",
       "      <th>Nome da unidade gestora pagadora</th>\n",
       "      <th>Tipo de pagamento</th>\n",
       "      <th>Valor</th>\n",
       "      <th>...</th>\n",
       "      <th>Função</th>\n",
       "      <th>Descrição Função</th>\n",
       "      <th>Período - Data de início</th>\n",
       "      <th>Período - Data de fim</th>\n",
       "      <th>Destinos</th>\n",
       "      <th>Motivo</th>\n",
       "      <th>Valor diárias</th>\n",
       "      <th>Valor passagens</th>\n",
       "      <th>Valor devolução</th>\n",
       "      <th>Valor outros gastos</th>\n",
       "    </tr>\n",
       "  </thead>\n",
       "  <tbody>\n",
       "    <tr>\n",
       "      <th>0</th>\n",
       "      <td>19485139</td>\n",
       "      <td>000184/24</td>\n",
       "      <td>52000</td>\n",
       "      <td>Ministério da Defesa</td>\n",
       "      <td>52121</td>\n",
       "      <td>Comando do Exército</td>\n",
       "      <td>160523</td>\n",
       "      <td>CENTRO DE PREP. DE OFICIAIS DA RESERVA DE BH</td>\n",
       "      <td>PASSAGEM</td>\n",
       "      <td>914,84</td>\n",
       "      <td>...</td>\n",
       "      <td>-1</td>\n",
       "      <td>Sem informação</td>\n",
       "      <td>18/01/2024</td>\n",
       "      <td>19/01/2024</td>\n",
       "      <td>Brasília/DF</td>\n",
       "      <td>Participação da Aluna do CMBH Giovana Cristina...</td>\n",
       "      <td>0,00</td>\n",
       "      <td>914,84</td>\n",
       "      <td>0,00</td>\n",
       "      <td>0,00</td>\n",
       "    </tr>\n",
       "  </tbody>\n",
       "</table>\n",
       "<p>1 rows × 65 columns</p>\n",
       "</div>"
      ],
      "text/plain": [
       "   Identificador do processo de viagem_pagamento  \\\n",
       "0                                       19485139   \n",
       "\n",
       "  Número da Proposta (PCDP)_pagamento  Código do órgão superior_final  \\\n",
       "0                           000184/24                           52000   \n",
       "\n",
       "  Nome do órgão superior_final  Codigo do órgão pagador Nome do órgao pagador  \\\n",
       "0         Ministério da Defesa                    52121   Comando do Exército   \n",
       "\n",
       "   Código da unidade gestora pagadora  \\\n",
       "0                              160523   \n",
       "\n",
       "               Nome da unidade gestora pagadora Tipo de pagamento   Valor  \\\n",
       "0  CENTRO DE PREP. DE OFICIAIS DA RESERVA DE BH          PASSAGEM  914,84   \n",
       "\n",
       "   ...  Função Descrição Função Período - Data de início  \\\n",
       "0  ...      -1   Sem informação               18/01/2024   \n",
       "\n",
       "  Período - Data de fim     Destinos  \\\n",
       "0            19/01/2024  Brasília/DF   \n",
       "\n",
       "                                              Motivo Valor diárias  \\\n",
       "0  Participação da Aluna do CMBH Giovana Cristina...          0,00   \n",
       "\n",
       "  Valor passagens Valor devolução Valor outros gastos  \n",
       "0          914,84            0,00                0,00  \n",
       "\n",
       "[1 rows x 65 columns]"
      ]
     },
     "execution_count": 3,
     "metadata": {},
     "output_type": "execute_result"
    }
   ],
   "source": [
    "df.head()"
   ]
  },
  {
   "cell_type": "code",
   "execution_count": 4,
   "id": "77fab0b9",
   "metadata": {
    "execution": {
     "iopub.execute_input": "2023-11-28T22:20:48.900372Z",
     "iopub.status.busy": "2023-11-28T22:20:48.899979Z",
     "iopub.status.idle": "2023-11-28T22:20:48.920030Z",
     "shell.execute_reply": "2023-11-28T22:20:48.918922Z"
    },
    "jupyter": {
     "source_hidden": true
    },
    "papermill": {
     "duration": 0.028663,
     "end_time": "2023-11-28T22:20:48.922636",
     "exception": false,
     "start_time": "2023-11-28T22:20:48.893973",
     "status": "completed"
    },
    "tags": []
   },
   "outputs": [
    {
     "name": "stdout",
     "output_type": "stream",
     "text": [
      "<class 'pandas.core.frame.DataFrame'>\n",
      "RangeIndex: 1 entries, 0 to 0\n",
      "Data columns (total 65 columns):\n",
      " #   Column                                         Non-Null Count  Dtype  \n",
      "---  ------                                         --------------  -----  \n",
      " 0   Identificador do processo de viagem_pagamento  1 non-null      int64  \n",
      " 1   Número da Proposta (PCDP)_pagamento            1 non-null      object \n",
      " 2   Código do órgão superior_final                 1 non-null      int64  \n",
      " 3   Nome do órgão superior_final                   1 non-null      object \n",
      " 4   Codigo do órgão pagador                        1 non-null      int64  \n",
      " 5   Nome do órgao pagador                          1 non-null      object \n",
      " 6   Código da unidade gestora pagadora             1 non-null      int64  \n",
      " 7   Nome da unidade gestora pagadora               1 non-null      object \n",
      " 8   Tipo de pagamento                              1 non-null      object \n",
      " 9   Valor                                          1 non-null      object \n",
      " 10  Identificador do processo de viagem_passagem   1 non-null      int64  \n",
      " 11  Número da Proposta (PCDP)_passagem             1 non-null      object \n",
      " 12  Meio de transporte_merged                      1 non-null      object \n",
      " 13  País - Origem ida                              1 non-null      object \n",
      " 14  UF - Origem ida                                1 non-null      object \n",
      " 15  Cidade - Origem ida                            1 non-null      object \n",
      " 16  País - Destino ida                             1 non-null      object \n",
      " 17  UF - Destino ida                               1 non-null      object \n",
      " 18  Cidade - Destino ida                           1 non-null      object \n",
      " 19  País - Origem volta                            1 non-null      object \n",
      " 20  UF - Origem volta                              1 non-null      object \n",
      " 21  Cidade - Origem volta                          1 non-null      object \n",
      " 22  Pais - Destino volta                           1 non-null      object \n",
      " 23  UF - Destino volta                             1 non-null      object \n",
      " 24  Cidade - Destino volta                         1 non-null      object \n",
      " 25  Valor da passagem                              1 non-null      object \n",
      " 26  Taxa de serviço                                1 non-null      object \n",
      " 27  Data da emissão/compra                         1 non-null      object \n",
      " 28  Hora da emissão/compra                         1 non-null      object \n",
      " 29  Identificador do processo de viagem            1 non-null      int64  \n",
      " 30  Número da Proposta (PCDP)_final                1 non-null      object \n",
      " 31  Sequência Trecho                               1 non-null      int64  \n",
      " 32  Origem - Data                                  1 non-null      object \n",
      " 33  Origem - País                                  1 non-null      object \n",
      " 34  Origem - UF                                    1 non-null      object \n",
      " 35  Origem - Cidade                                1 non-null      object \n",
      " 36  Destino - Data                                 1 non-null      object \n",
      " 37  Destino - País                                 1 non-null      object \n",
      " 38  Destino - UF                                   1 non-null      object \n",
      " 39  Destino - Cidade                               1 non-null      object \n",
      " 40  Meio de transporte_trecho                      1 non-null      object \n",
      " 41  Número Diárias                                 1 non-null      object \n",
      " 42  Missao?                                        1 non-null      object \n",
      " 43  Identificador do processo de viagem            1 non-null      int64  \n",
      " 44  Número da Proposta (PCDP)_viagem               1 non-null      object \n",
      " 45  Situação                                       1 non-null      object \n",
      " 46  Viagem Urgente                                 1 non-null      object \n",
      " 47  Justificativa Urgência Viagem                  1 non-null      object \n",
      " 48  Código do órgão superior_viagem                1 non-null      int64  \n",
      " 49  Nome do órgão superior_viagem                  1 non-null      object \n",
      " 50  Código órgão solicitante                       1 non-null      int64  \n",
      " 51  Nome órgão solicitante                         1 non-null      object \n",
      " 52  CPF viajante                                   0 non-null      float64\n",
      " 53  Nome                                           1 non-null      object \n",
      " 54  Cargo                                          0 non-null      float64\n",
      " 55  Função                                         1 non-null      int64  \n",
      " 56  Descrição Função                               1 non-null      object \n",
      " 57  Período - Data de início                       1 non-null      object \n",
      " 58  Período - Data de fim                          1 non-null      object \n",
      " 59  Destinos                                       1 non-null      object \n",
      " 60  Motivo                                         1 non-null      object \n",
      " 61  Valor diárias                                  1 non-null      object \n",
      " 62  Valor passagens                                1 non-null      object \n",
      " 63  Valor devolução                                1 non-null      object \n",
      " 64  Valor outros gastos                            1 non-null      object \n",
      "dtypes: float64(2), int64(11), object(52)\n",
      "memory usage: 648.0+ bytes\n"
     ]
    }
   ],
   "source": [
    "df.info()"
   ]
  },
  {
   "cell_type": "code",
   "execution_count": 5,
   "id": "42b11207",
   "metadata": {
    "execution": {
     "iopub.execute_input": "2023-11-28T22:20:48.933406Z",
     "iopub.status.busy": "2023-11-28T22:20:48.933002Z",
     "iopub.status.idle": "2023-11-28T22:20:48.944928Z",
     "shell.execute_reply": "2023-11-28T22:20:48.943676Z"
    },
    "jupyter": {
     "source_hidden": true
    },
    "papermill": {
     "duration": 0.021463,
     "end_time": "2023-11-28T22:20:48.947809",
     "exception": false,
     "start_time": "2023-11-28T22:20:48.926346",
     "status": "completed"
    },
    "tags": []
   },
   "outputs": [],
   "source": [
    "# Replace commas with periods in the columns and then convert to float\n",
    "df['Valor'] = df['Valor'].str.replace(',', '.').astype(float)\n",
    "df['Valor da passagem'] = df['Valor da passagem'].str.replace(',', '.').astype(float)\n",
    "df['Taxa de serviço'] = df['Taxa de serviço'].str.replace(',', '.').astype(float)\n",
    "df['Valor passagens'] = df['Valor passagens'].str.replace(',', '.').astype(float)"
   ]
  },
  {
   "cell_type": "markdown",
   "id": "b6bfe4cc",
   "metadata": {
    "papermill": {
     "duration": 0.004182,
     "end_time": "2023-11-28T22:20:48.955558",
     "exception": false,
     "start_time": "2023-11-28T22:20:48.951376",
     "status": "completed"
    },
    "tags": []
   },
   "source": [
    "#### deletando colunas vazias"
   ]
  },
  {
   "cell_type": "code",
   "execution_count": 6,
   "id": "59a0bc6b",
   "metadata": {
    "execution": {
     "iopub.execute_input": "2023-11-28T22:20:48.965713Z",
     "iopub.status.busy": "2023-11-28T22:20:48.965316Z",
     "iopub.status.idle": "2023-11-28T22:20:48.982198Z",
     "shell.execute_reply": "2023-11-28T22:20:48.980791Z"
    },
    "jupyter": {
     "source_hidden": true
    },
    "papermill": {
     "duration": 0.025669,
     "end_time": "2023-11-28T22:20:48.985097",
     "exception": false,
     "start_time": "2023-11-28T22:20:48.959428",
     "status": "completed"
    },
    "tags": []
   },
   "outputs": [],
   "source": [
    "del df['País - Origem volta']\n",
    "del df['UF - Origem volta']\n",
    "del df['Cidade - Origem volta']\n",
    "del df['Pais - Destino volta']\n",
    "del df['UF - Destino volta']\n",
    "del df['Cidade - Destino volta']\n",
    "del df['Justificativa Urgência Viagem']\n",
    "del df['Nome do órgão superior_viagem']\n",
    "del df['Nome órgão solicitante']\n",
    "del df['CPF viajante']\n",
    "del df['Cargo']\n",
    "del df['Descrição Função']"
   ]
  },
  {
   "cell_type": "code",
   "execution_count": 7,
   "id": "a5c6a482",
   "metadata": {
    "execution": {
     "iopub.execute_input": "2023-11-28T22:20:48.995373Z",
     "iopub.status.busy": "2023-11-28T22:20:48.994876Z",
     "iopub.status.idle": "2023-11-28T22:20:49.004517Z",
     "shell.execute_reply": "2023-11-28T22:20:49.003313Z"
    },
    "jupyter": {
     "source_hidden": true
    },
    "papermill": {
     "duration": 0.01813,
     "end_time": "2023-11-28T22:20:49.007003",
     "exception": false,
     "start_time": "2023-11-28T22:20:48.988873",
     "status": "completed"
    },
    "tags": []
   },
   "outputs": [],
   "source": [
    "df.to_csv('../data/TPM1/2024_viagens_consolidado.csv', index=False)"
   ]
  }
 ],
 "metadata": {
  "kernelspec": {
   "display_name": "docker-airflow",
   "language": "python",
   "name": "python3"
  },
  "language_info": {
   "codemirror_mode": {
    "name": "ipython",
    "version": 3
   },
   "file_extension": ".py",
   "mimetype": "text/x-python",
   "name": "python",
   "nbconvert_exporter": "python",
   "pygments_lexer": "ipython3",
   "version": "3.8.18"
  },
  "papermill": {
   "default_parameters": {},
   "duration": 3.541196,
   "end_time": "2023-11-28T22:20:49.333015",
   "environment_variables": {},
   "exception": null,
   "input_path": "/home/marcos/airflow/notebooks/silver.ipynb",
   "output_path": "/home/marcos/airflow/notebooks/silver_output.ipynb",
   "parameters": {},
   "start_time": "2023-11-28T22:20:45.791819",
   "version": "2.5.0"
  }
 },
 "nbformat": 4,
 "nbformat_minor": 5
}